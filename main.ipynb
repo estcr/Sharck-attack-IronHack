{
 "cells": [
  {
   "cell_type": "code",
   "execution_count": 1,
   "metadata": {},
   "outputs": [],
   "source": [
    "import pandas as pd\n",
    "\n",
    "url= \"https://www.sharkattackfile.net/spreadsheets/GSAF5.xls\"\n",
    "\n",
    "df1= pd.read_excel(url)"
   ]
  },
  {
   "cell_type": "code",
   "execution_count": 4,
   "metadata": {},
   "outputs": [],
   "source": [
    "import funciones as f"
   ]
  },
  {
   "cell_type": "code",
   "execution_count": 2,
   "metadata": {},
   "outputs": [],
   "source": [
    "df_original=df1.copy()\n",
    "df=df_original"
   ]
  },
  {
   "cell_type": "code",
   "execution_count": 5,
   "metadata": {},
   "outputs": [
    {
     "name": "stderr",
     "output_type": "stream",
     "text": [
      "c:\\Users\\est_c\\OneDrive\\Documentos\\GitHub\\Sharck-attack-IronHack\\funciones.py:171: FutureWarning: Series.fillna with 'method' is deprecated and will raise in a future version. Use obj.ffill() or obj.bfill() instead.\n",
      "  df['date'] = df['date'].fillna(method='bfill')\n"
     ]
    }
   ],
   "source": [
    "df=f.limpiar_dataframe(df)"
   ]
  },
  {
   "cell_type": "code",
   "execution_count": 6,
   "metadata": {},
   "outputs": [
    {
     "name": "stdout",
     "output_type": "stream",
     "text": [
      "<class 'pandas.core.frame.DataFrame'>\n",
      "Index: 3842 entries, 0 to 3845\n",
      "Data columns (total 11 columns):\n",
      " #   Column    Non-Null Count  Dtype         \n",
      "---  ------    --------------  -----         \n",
      " 0   date      3842 non-null   datetime64[ns]\n",
      " 1   type      3842 non-null   object        \n",
      " 2   country   3842 non-null   object        \n",
      " 3   state     3842 non-null   object        \n",
      " 4   location  3842 non-null   object        \n",
      " 5   name      3842 non-null   object        \n",
      " 6   sex       3842 non-null   object        \n",
      " 7   age       3842 non-null   object        \n",
      " 8   category  3842 non-null   object        \n",
      " 9   month     3842 non-null   int32         \n",
      " 10  year      3842 non-null   int32         \n",
      "dtypes: datetime64[ns](1), int32(2), object(8)\n",
      "memory usage: 330.2+ KB\n"
     ]
    }
   ],
   "source": [
    "df.info()"
   ]
  },
  {
   "cell_type": "code",
   "execution_count": 42,
   "metadata": {},
   "outputs": [],
   "source": [
    "\n",
    "\n",
    "#sns.histplot(data=pd.to_numeric(df['age'], errors=\"coerce\"), bins=20)"
   ]
  },
  {
   "cell_type": "code",
   "execution_count": 43,
   "metadata": {},
   "outputs": [],
   "source": [
    "#sns.histplot(data=df, x='', bins=len(df['date'].dt.year.unique()))"
   ]
  },
  {
   "cell_type": "code",
   "execution_count": 44,
   "metadata": {},
   "outputs": [],
   "source": [
    "#sns.histplot(data=df, x='date', bins=len(df['date'].dt.to_period(\"M\").unique()))"
   ]
  },
  {
   "cell_type": "code",
   "execution_count": null,
   "metadata": {},
   "outputs": [],
   "source": []
  }
 ],
 "metadata": {
  "kernelspec": {
   "display_name": "Python 3",
   "language": "python",
   "name": "python3"
  },
  "language_info": {
   "codemirror_mode": {
    "name": "ipython",
    "version": 3
   },
   "file_extension": ".py",
   "mimetype": "text/x-python",
   "name": "python",
   "nbconvert_exporter": "python",
   "pygments_lexer": "ipython3",
   "version": "3.12.3"
  }
 },
 "nbformat": 4,
 "nbformat_minor": 2
}
