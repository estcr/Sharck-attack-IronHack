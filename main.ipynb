{
 "cells": [
  {
   "cell_type": "code",
   "execution_count": 23,
   "metadata": {},
   "outputs": [],
   "source": [
    "import pandas as pd\n",
    "\n",
    "url= \"https://www.sharkattackfile.net/spreadsheets/GSAF5.xls\"\n",
    "\n",
    "df= pd.read_excel(url)"
   ]
  },
  {
   "cell_type": "code",
   "execution_count": null,
   "metadata": {},
   "outputs": [
    {
     "name": "stdout",
     "output_type": "stream",
     "text": [
      "<class 'pandas.core.frame.DataFrame'>\n",
      "RangeIndex: 6977 entries, 0 to 6976\n",
      "Data columns (total 23 columns):\n",
      " #   Column          Non-Null Count  Dtype  \n",
      "---  ------          --------------  -----  \n",
      " 0   Date            6976 non-null   object \n",
      " 1   Year            6974 non-null   float64\n",
      " 2   Type            6958 non-null   object \n",
      " 3   Country         6926 non-null   object \n",
      " 4   State           6494 non-null   object \n",
      " 5   Location        6411 non-null   object \n",
      " 6   Activity        6390 non-null   object \n",
      " 7   Name            6756 non-null   object \n",
      " 8   Sex             6397 non-null   object \n",
      " 9   Age             3981 non-null   object \n",
      " 10  Injury          6941 non-null   object \n",
      " 11  Unnamed: 11     6414 non-null   object \n",
      " 12  Time            3450 non-null   object \n",
      " 13  Species         3844 non-null   object \n",
      " 14  Source          6957 non-null   object \n",
      " 15  pdf             6799 non-null   object \n",
      " 16  href formula    6794 non-null   object \n",
      " 17  href            6796 non-null   object \n",
      " 18  Case Number     6798 non-null   object \n",
      " 19  Case Number.1   6797 non-null   object \n",
      " 20  original order  6799 non-null   float64\n",
      " 21  Unnamed: 21     1 non-null      object \n",
      " 22  Unnamed: 22     2 non-null      object \n",
      "dtypes: float64(2), object(21)\n",
      "memory usage: 1.2+ MB\n"
     ]
    }
   ],
   "source": [
    "df.info()\n",
    "#columna 14 en adelante borrar datos no importantes\n",
    "#Name, Time, Source, Unnamed, datos no necesarios\n",
    "#Age tipo int\n",
    "#Categoricas: Genre, Species,Activity, type,Country,State, Location"
   ]
  },
  {
   "cell_type": "code",
   "execution_count": null,
   "metadata": {},
   "outputs": [
    {
     "data": {
      "text/plain": [
       "array([nan, 'M', 'F', ' M', 'M ', 'lli', 'M x 2', 'N', '.'], dtype=object)"
      ]
     },
     "execution_count": 10,
     "metadata": {},
     "output_type": "execute_result"
    }
   ],
   "source": [
    "df.Sex.unique()\n",
    "#Chequear tipo para hacer limpieza"
   ]
  },
  {
   "cell_type": "code",
   "execution_count": null,
   "metadata": {},
   "outputs": [
    {
     "data": {
      "text/plain": [
       "count    6974.000000\n",
       "mean     1934.814740\n",
       "std       272.361424\n",
       "min         0.000000\n",
       "25%      1947.000000\n",
       "50%      1985.000000\n",
       "75%      2009.000000\n",
       "max      2026.000000\n",
       "Name: Year, dtype: float64"
      ]
     },
     "execution_count": 13,
     "metadata": {},
     "output_type": "execute_result"
    }
   ],
   "source": [
    "df.Year.describe()\n",
    "\n",
    "#chequear min y max improbables. Limpiar para el estudio, luego de la primer limpieza se va a sacar los cuartiles para decidir y abarcar la mayoria de datos"
   ]
  },
  {
   "cell_type": "code",
   "execution_count": null,
   "metadata": {},
   "outputs": [],
   "source": [
    "df.Year.unique()"
   ]
  },
  {
   "cell_type": "code",
   "execution_count": 25,
   "metadata": {},
   "outputs": [
    {
     "data": {
      "text/plain": [
       "Index(['date', 'year', 'type', 'country', 'state', 'location', 'activity',\n",
       "       'name', 'sex', 'age', 'injury', 'unnamed:_11', 'time', 'species',\n",
       "       'source', 'pdf', 'href_formula', 'href', 'case_number', 'case_number.1',\n",
       "       'original_order', 'unnamed:_21', 'unnamed:_22'],\n",
       "      dtype='object')"
      ]
     },
     "execution_count": 25,
     "metadata": {},
     "output_type": "execute_result"
    }
   ],
   "source": [
    "dfshort=df.rename(columns={df.columns[n]:df.columns[n].strip().replace(\" \",\"_\").lower() for n in range(len(df.columns))})\n",
    "dfshort.columns"
   ]
  },
  {
   "cell_type": "code",
   "execution_count": 26,
   "metadata": {},
   "outputs": [
    {
     "data": {
      "text/html": [
       "<div>\n",
       "<style scoped>\n",
       "    .dataframe tbody tr th:only-of-type {\n",
       "        vertical-align: middle;\n",
       "    }\n",
       "\n",
       "    .dataframe tbody tr th {\n",
       "        vertical-align: top;\n",
       "    }\n",
       "\n",
       "    .dataframe thead th {\n",
       "        text-align: right;\n",
       "    }\n",
       "</style>\n",
       "<table border=\"1\" class=\"dataframe\">\n",
       "  <thead>\n",
       "    <tr style=\"text-align: right;\">\n",
       "      <th></th>\n",
       "      <th>date</th>\n",
       "      <th>year</th>\n",
       "      <th>type</th>\n",
       "      <th>country</th>\n",
       "      <th>state</th>\n",
       "      <th>location</th>\n",
       "      <th>activity</th>\n",
       "      <th>sex</th>\n",
       "      <th>age</th>\n",
       "      <th>injury</th>\n",
       "      <th>species</th>\n",
       "    </tr>\n",
       "  </thead>\n",
       "  <tbody>\n",
       "    <tr>\n",
       "      <th>0</th>\n",
       "      <td>NaN</td>\n",
       "      <td>NaN</td>\n",
       "      <td>NaN</td>\n",
       "      <td>NaN</td>\n",
       "      <td>NaN</td>\n",
       "      <td>NaN</td>\n",
       "      <td>NaN</td>\n",
       "      <td>NaN</td>\n",
       "      <td>NaN</td>\n",
       "      <td>NaN</td>\n",
       "      <td>NaN</td>\n",
       "    </tr>\n",
       "    <tr>\n",
       "      <th>1</th>\n",
       "      <td>2024-11-01 00:00:00</td>\n",
       "      <td>2024.0</td>\n",
       "      <td>Unprovoked</td>\n",
       "      <td>Hawaii</td>\n",
       "      <td>Maui</td>\n",
       "      <td>Sand Piles Waiehu Beach Park</td>\n",
       "      <td>Surfing</td>\n",
       "      <td>M</td>\n",
       "      <td>61</td>\n",
       "      <td>Right leg severted below knee</td>\n",
       "      <td>Not stated</td>\n",
       "    </tr>\n",
       "    <tr>\n",
       "      <th>2</th>\n",
       "      <td>2024-10-31 00:00:00</td>\n",
       "      <td>2024.0</td>\n",
       "      <td>Unprovoked</td>\n",
       "      <td>Australia</td>\n",
       "      <td>Queensland</td>\n",
       "      <td>Whitsunday Islands</td>\n",
       "      <td>Snorkeling</td>\n",
       "      <td>F</td>\n",
       "      <td>57</td>\n",
       "      <td>30cm (1ft) bite to lower calf</td>\n",
       "      <td>Reported as a large Tiger shark</td>\n",
       "    </tr>\n",
       "    <tr>\n",
       "      <th>3</th>\n",
       "      <td>2024-10-25 00:00:00</td>\n",
       "      <td>2024.0</td>\n",
       "      <td>Unprovoked</td>\n",
       "      <td>USA</td>\n",
       "      <td>Florida</td>\n",
       "      <td>Bathtub Beach, Martin County</td>\n",
       "      <td>Surfing</td>\n",
       "      <td>M</td>\n",
       "      <td>27</td>\n",
       "      <td>Both feet bitten</td>\n",
       "      <td>Bull or tiger 7-8ft</td>\n",
       "    </tr>\n",
       "    <tr>\n",
       "      <th>4</th>\n",
       "      <td>2024-10-14 00:00:00</td>\n",
       "      <td>2024.0</td>\n",
       "      <td>Unprovoked</td>\n",
       "      <td>Honduras</td>\n",
       "      <td>Tela</td>\n",
       "      <td>Atlantida</td>\n",
       "      <td>Swimming</td>\n",
       "      <td>M</td>\n",
       "      <td>38</td>\n",
       "      <td>Back and thigh extensive tissue loss</td>\n",
       "      <td>Bull shark</td>\n",
       "    </tr>\n",
       "    <tr>\n",
       "      <th>...</th>\n",
       "      <td>...</td>\n",
       "      <td>...</td>\n",
       "      <td>...</td>\n",
       "      <td>...</td>\n",
       "      <td>...</td>\n",
       "      <td>...</td>\n",
       "      <td>...</td>\n",
       "      <td>...</td>\n",
       "      <td>...</td>\n",
       "      <td>...</td>\n",
       "      <td>...</td>\n",
       "    </tr>\n",
       "    <tr>\n",
       "      <th>6972</th>\n",
       "      <td>Before 1903</td>\n",
       "      <td>0.0</td>\n",
       "      <td>Unprovoked</td>\n",
       "      <td>AUSTRALIA</td>\n",
       "      <td>Western Australia</td>\n",
       "      <td>Roebuck Bay</td>\n",
       "      <td>Diving</td>\n",
       "      <td>M</td>\n",
       "      <td>NaN</td>\n",
       "      <td>FATAL</td>\n",
       "      <td>NaN</td>\n",
       "    </tr>\n",
       "    <tr>\n",
       "      <th>6973</th>\n",
       "      <td>Before 1903</td>\n",
       "      <td>0.0</td>\n",
       "      <td>Unprovoked</td>\n",
       "      <td>AUSTRALIA</td>\n",
       "      <td>Western Australia</td>\n",
       "      <td>NaN</td>\n",
       "      <td>Pearl diving</td>\n",
       "      <td>M</td>\n",
       "      <td>NaN</td>\n",
       "      <td>FATAL</td>\n",
       "      <td>NaN</td>\n",
       "    </tr>\n",
       "    <tr>\n",
       "      <th>6974</th>\n",
       "      <td>1900-1905</td>\n",
       "      <td>0.0</td>\n",
       "      <td>Unprovoked</td>\n",
       "      <td>USA</td>\n",
       "      <td>North Carolina</td>\n",
       "      <td>Ocracoke Inlet</td>\n",
       "      <td>Swimming</td>\n",
       "      <td>M</td>\n",
       "      <td>NaN</td>\n",
       "      <td>FATAL</td>\n",
       "      <td>NaN</td>\n",
       "    </tr>\n",
       "    <tr>\n",
       "      <th>6975</th>\n",
       "      <td>1883-1889</td>\n",
       "      <td>0.0</td>\n",
       "      <td>Unprovoked</td>\n",
       "      <td>PANAMA</td>\n",
       "      <td>NaN</td>\n",
       "      <td>Panama Bay 8ºN, 79ºW</td>\n",
       "      <td>NaN</td>\n",
       "      <td>M</td>\n",
       "      <td>NaN</td>\n",
       "      <td>FATAL</td>\n",
       "      <td>NaN</td>\n",
       "    </tr>\n",
       "    <tr>\n",
       "      <th>6976</th>\n",
       "      <td>1845-1853</td>\n",
       "      <td>0.0</td>\n",
       "      <td>Unprovoked</td>\n",
       "      <td>CEYLON (SRI LANKA)</td>\n",
       "      <td>Eastern Province</td>\n",
       "      <td>Below the English fort, Trincomalee</td>\n",
       "      <td>Swimming</td>\n",
       "      <td>M</td>\n",
       "      <td>15</td>\n",
       "      <td>FATAL. \"Shark bit him in half, carrying away t...</td>\n",
       "      <td>NaN</td>\n",
       "    </tr>\n",
       "  </tbody>\n",
       "</table>\n",
       "<p>6977 rows × 11 columns</p>\n",
       "</div>"
      ],
      "text/plain": [
       "                     date    year        type             country  \\\n",
       "0                     NaN     NaN         NaN                 NaN   \n",
       "1     2024-11-01 00:00:00  2024.0  Unprovoked              Hawaii   \n",
       "2     2024-10-31 00:00:00  2024.0  Unprovoked           Australia   \n",
       "3     2024-10-25 00:00:00  2024.0  Unprovoked                 USA   \n",
       "4     2024-10-14 00:00:00  2024.0  Unprovoked            Honduras   \n",
       "...                   ...     ...         ...                 ...   \n",
       "6972          Before 1903     0.0  Unprovoked           AUSTRALIA   \n",
       "6973          Before 1903     0.0  Unprovoked           AUSTRALIA   \n",
       "6974            1900-1905     0.0  Unprovoked                 USA   \n",
       "6975            1883-1889     0.0  Unprovoked              PANAMA   \n",
       "6976            1845-1853     0.0  Unprovoked  CEYLON (SRI LANKA)   \n",
       "\n",
       "                  state                             location      activity  \\\n",
       "0                   NaN                                  NaN           NaN   \n",
       "1                  Maui         Sand Piles Waiehu Beach Park       Surfing   \n",
       "2            Queensland                   Whitsunday Islands    Snorkeling   \n",
       "3               Florida         Bathtub Beach, Martin County       Surfing   \n",
       "4                  Tela                            Atlantida      Swimming   \n",
       "...                 ...                                  ...           ...   \n",
       "6972  Western Australia                          Roebuck Bay        Diving   \n",
       "6973  Western Australia                                  NaN  Pearl diving   \n",
       "6974     North Carolina                       Ocracoke Inlet      Swimming   \n",
       "6975                NaN                 Panama Bay 8ºN, 79ºW           NaN   \n",
       "6976   Eastern Province  Below the English fort, Trincomalee      Swimming   \n",
       "\n",
       "      sex  age                                             injury  \\\n",
       "0     NaN  NaN                                                NaN   \n",
       "1       M   61                      Right leg severted below knee   \n",
       "2       F   57                     30cm (1ft) bite to lower calf    \n",
       "3       M   27                                   Both feet bitten   \n",
       "4       M   38               Back and thigh extensive tissue loss   \n",
       "...   ...  ...                                                ...   \n",
       "6972    M  NaN                                              FATAL   \n",
       "6973    M  NaN                                              FATAL   \n",
       "6974    M  NaN                                              FATAL   \n",
       "6975    M  NaN                                              FATAL   \n",
       "6976    M   15  FATAL. \"Shark bit him in half, carrying away t...   \n",
       "\n",
       "                              species  \n",
       "0                                 NaN  \n",
       "1                          Not stated  \n",
       "2     Reported as a large Tiger shark  \n",
       "3                 Bull or tiger 7-8ft  \n",
       "4                          Bull shark  \n",
       "...                               ...  \n",
       "6972                              NaN  \n",
       "6973                              NaN  \n",
       "6974                              NaN  \n",
       "6975                              NaN  \n",
       "6976                              NaN  \n",
       "\n",
       "[6977 rows x 11 columns]"
      ]
     },
     "execution_count": 26,
     "metadata": {},
     "output_type": "execute_result"
    }
   ],
   "source": [
    "dfshort[['date', 'year', 'type', 'country', 'state', 'location', 'activity', 'sex', 'age', 'injury', 'species']]"
   ]
  },
  {
   "cell_type": "code",
   "execution_count": null,
   "metadata": {},
   "outputs": [
    {
     "data": {
      "text/plain": [
       "array([nan, 'Not stated', 'Reported as a large Tiger shark', ...,\n",
       "       \"12' tiger shark\", 'Blue pointers',\n",
       "       'Said to involve a grey nurse shark that leapt out of the water and  seized the boy but species identification is questionable'],\n",
       "      dtype=object)"
      ]
     },
     "execution_count": 30,
     "metadata": {},
     "output_type": "execute_result"
    }
   ],
   "source": [
    "dfshort.species.unique() #Determinar si nos sirve o no"
   ]
  },
  {
   "cell_type": "code",
   "execution_count": null,
   "metadata": {},
   "outputs": [],
   "source": []
  }
 ],
 "metadata": {
  "kernelspec": {
   "display_name": "enc_conda_",
   "language": "python",
   "name": "python3"
  },
  "language_info": {
   "codemirror_mode": {
    "name": "ipython",
    "version": 3
   },
   "file_extension": ".py",
   "mimetype": "text/x-python",
   "name": "python",
   "nbconvert_exporter": "python",
   "pygments_lexer": "ipython3",
   "version": "3.11.10"
  }
 },
 "nbformat": 4,
 "nbformat_minor": 2
}
